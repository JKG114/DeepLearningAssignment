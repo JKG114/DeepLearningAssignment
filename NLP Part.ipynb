{
 "cells": [
  {
   "cell_type": "code",
   "execution_count": 2,
   "metadata": {
    "collapsed": true
   },
   "outputs": [],
   "source": [
    "import keras \n",
    "import numpy as np\n",
    "from keras.layers.core import Dense, Dropout, Flatten\n",
    "from keras.datasets import cifar10\n",
    "from keras.utils import to_categorical\n",
    "from keras import layers\n",
    "from keras.layers import Embedding\n",
    "from keras.utils import np_utils\n",
    "from keras.layers.convolutional import Convolution1D, MaxPooling1D, ZeroPadding1D, AveragePooling1D\n",
    "from keras import models\n",
    "from keras.callbacks import EarlyStopping\n",
    "from keras.optimizers import Adam"
   ]
  },
  {
   "cell_type": "code",
   "execution_count": 3,
   "metadata": {
    "collapsed": true
   },
   "outputs": [],
   "source": [
    "#Dataset of 11,228 newswires from Reuters, labeled over 46 topics. \n",
    "#As with the IMDB dataset, each wire is encoded as a sequence of word indexes (same conventions).\n",
    "\n",
    "from keras import preprocessing\n",
    "from keras.datasets import reuters\n",
    "#training set has 8982 samples, test set has 2246\n",
    "\n",
    "# Number of words to consider as features\n",
    "max_features = 500\n",
    "# Cut texts after this number of words \n",
    "# (among top max_features most common words)\n",
    "maxlen = 100\n",
    "\n",
    "\n",
    "#We'll start by considering only \n",
    "(x_train, y_train), (x_test, y_test) = reuters.load_data(num_words=max_features,\n",
    "                                                         test_split=0.2)\n",
    "\n",
    "x_train = preprocessing.sequence.pad_sequences(x_train, maxlen=maxlen)\n",
    "x_test = preprocessing.sequence.pad_sequences(x_test, maxlen=maxlen)\n",
    "y_train = np_utils.to_categorical(y_train, 46)\n",
    "y_test = np_utils.to_categorical(y_test, 46)\n",
    "#This dataset also makes available the word index used for encoding the sequences:\n",
    "#Note there are 30979 words (we'll use this for our embedding)\n",
    "word_index = reuters.get_word_index(path=\"reuters_word_index.json\")\n",
    "\n",
    "\n"
   ]
  },
  {
   "cell_type": "code",
   "execution_count": 4,
   "metadata": {},
   "outputs": [
    {
     "data": {
      "text/plain": [
       "array([  0,   0,   0,   0,   0,   0,   0,   0,   0,   0,   0,   0,   0,\n",
       "         1,   2,   2,   8,  43,  10, 447,   5,  25, 207, 270,   5,   2,\n",
       "       111,  16, 369, 186,  90,  67,   7,  89,   5,  19, 102,   6,  19,\n",
       "       124,  15,  90,  67,  84,  22, 482,  26,   7,  48,   4,  49,   8,\n",
       "         2,  39, 209, 154,   6, 151,   6,  83,  11,  15,  22, 155,  11,\n",
       "        15,   7,  48,   9,   2,   2,   2,   6, 258,   6, 272,  11,  15,\n",
       "        22, 134,  44,  11,  15,  16,   8, 197,   2,  90,  67,  52,  29,\n",
       "       209,  30,  32, 132,   6, 109,  15,  17,  12], dtype=int32)"
      ]
     },
     "execution_count": 4,
     "metadata": {},
     "output_type": "execute_result"
    }
   ],
   "source": [
    " len(x_train) + len(x_test)\n",
    "x_train[0]"
   ]
  },
  {
   "cell_type": "code",
   "execution_count": 5,
   "metadata": {},
   "outputs": [
    {
     "name": "stdout",
     "output_type": "stream",
     "text": [
      "_________________________________________________________________\n",
      "Layer (type)                 Output Shape              Param #   \n",
      "=================================================================\n",
      "embedding_1 (Embedding)      (None, 100, 8)            4000      \n",
      "_________________________________________________________________\n",
      "flatten_1 (Flatten)          (None, 800)               0         \n",
      "_________________________________________________________________\n",
      "dense_1 (Dense)              (None, 46)                36846     \n",
      "=================================================================\n",
      "Total params: 40,846\n",
      "Trainable params: 40,846\n",
      "Non-trainable params: 0\n",
      "_________________________________________________________________\n",
      "Train on 8982 samples, validate on 2246 samples\n",
      "Epoch 1/10\n",
      "8982/8982 [==============================] - 1s 112us/step - loss: 0.1168 - acc: 0.9769 - val_loss: 0.0613 - val_acc: 0.9835\n",
      "Epoch 2/10\n",
      "8982/8982 [==============================] - 1s 102us/step - loss: 0.0588 - acc: 0.9837 - val_loss: 0.0577 - val_acc: 0.9842\n",
      "Epoch 3/10\n",
      "8982/8982 [==============================] - 1s 109us/step - loss: 0.0548 - acc: 0.9850 - val_loss: 0.0541 - val_acc: 0.9862\n",
      "Epoch 4/10\n",
      "8982/8982 [==============================] - 1s 116us/step - loss: 0.0499 - acc: 0.9869 - val_loss: 0.0508 - val_acc: 0.9870\n",
      "Epoch 5/10\n",
      "8982/8982 [==============================] - 1s 109us/step - loss: 0.0460 - acc: 0.9875 - val_loss: 0.0490 - val_acc: 0.9873\n",
      "Epoch 6/10\n",
      "8982/8982 [==============================] - 1s 111us/step - loss: 0.0428 - acc: 0.9880 - val_loss: 0.0479 - val_acc: 0.9876\n",
      "Epoch 7/10\n",
      "8982/8982 [==============================] - 1s 116us/step - loss: 0.0402 - acc: 0.9884 - val_loss: 0.0471 - val_acc: 0.9878\n",
      "Epoch 8/10\n",
      "8982/8982 [==============================] - 1s 104us/step - loss: 0.0378 - acc: 0.9887 - val_loss: 0.0466 - val_acc: 0.9879\n",
      "Epoch 9/10\n",
      "8982/8982 [==============================] - 1s 108us/step - loss: 0.0356 - acc: 0.9891 - val_loss: 0.0463 - val_acc: 0.9880\n",
      "Epoch 10/10\n",
      "8982/8982 [==============================] - 1s 104us/step - loss: 0.0336 - acc: 0.9896 - val_loss: 0.0462 - val_acc: 0.9880\n"
     ]
    }
   ],
   "source": [
    "#We'll start by building a simple model using embedding\n",
    "from keras.models import Sequential\n",
    "from keras.layers import Flatten, Dense\n",
    "\n",
    "model = Sequential()\n",
    "# We specify the maximum input length to our Embedding layer\n",
    "# so we can later flatten the embedded inputs\n",
    "model.add(Embedding(500, 8, input_length=maxlen))\n",
    "# After the Embedding layer, \n",
    "# our activations have shape `(samples, maxlen, 8)`.\n",
    "# convolution layers\n",
    "model.add(Flatten())\n",
    "model.add(Dense(46, activation='sigmoid'))\n",
    "\n",
    "\n",
    "model.compile(optimizer='rmsprop', loss='binary_crossentropy', metrics=['acc'])\n",
    "model.summary()\n",
    "\n",
    "history = model.fit(x_train, y_train,\n",
    "                    epochs=10,\n",
    "                    batch_size=32,\n",
    "                    validation_data=(x_test, y_test))"
   ]
  },
  {
   "cell_type": "code",
   "execution_count": 6,
   "metadata": {
    "scrolled": true
   },
   "outputs": [
    {
     "data": {
      "image/png": "[encoded data removed]",
      "text/plain": [
       "<matplotlib.figure.Figure at 0x10ae28668>"
      ]
     },
     "metadata": {},
     "output_type": "display_data"
    },
    {
     "data": {
      "image/png": "[encoded data removed]",
      "text/plain": [
       "<matplotlib.figure.Figure at 0x10bd81160>"
      ]
     },
     "metadata": {},
     "output_type": "display_data"
    },
    {
     "name": "stdout",
     "output_type": "stream",
     "text": [
      "2246/2246 [==============================] - 0s 39us/step\n",
      "Loss: 0.046\n",
      "Accuracy: 0.988\n"
     ]
    }
   ],
   "source": [
    "import matplotlib.pyplot as plt\n",
    "\n",
    "acc = history.history['acc']\n",
    "val_acc = history.history['val_acc']\n",
    "loss = history.history['loss']\n",
    "val_loss = history.history['val_loss']\n",
    "\n",
    "epochs = range(1, len(acc) + 1)\n",
    "\n",
    "plt.plot(epochs, acc, 'bo', label='Training acc')\n",
    "plt.plot(epochs, val_acc, 'b', label='Validation acc')\n",
    "plt.title('Training and validation accuracy')\n",
    "plt.legend()\n",
    "\n",
    "plt.figure()\n",
    "\n",
    "plt.plot(epochs, loss, 'bo', label='Training loss')\n",
    "plt.plot(epochs, val_loss, 'b', label='Validation loss')\n",
    "plt.title('Training and validation loss')\n",
    "plt.legend()\n",
    "\n",
    "plt.show()\n",
    "scores = model.evaluate(x_test, y_test)\n",
    "print('Loss: %.3f' % scores[0])\n",
    "print('Accuracy: %.3f' % scores[1])"
   ]
  },
  {
   "cell_type": "code",
   "execution_count": 9,
   "metadata": {},
   "outputs": [
    {
     "name": "stdout",
     "output_type": "stream",
     "text": [
      "_________________________________________________________________\n",
      "Layer (type)                 Output Shape              Param #   \n",
      "=================================================================\n",
      "embedding_4 (Embedding)      (None, 100, 8)            4000      \n",
      "_________________________________________________________________\n",
      "flatten_4 (Flatten)          (None, 800)               0         \n",
      "_________________________________________________________________\n",
      "dense_4 (Dense)              (None, 512)               410112    \n",
      "_________________________________________________________________\n",
      "dropout_3 (Dropout)          (None, 512)               0         \n",
      "_________________________________________________________________\n",
      "dense_5 (Dense)              (None, 46)                23598     \n",
      "=================================================================\n",
      "Total params: 437,710\n",
      "Trainable params: 437,710\n",
      "Non-trainable params: 0\n",
      "_________________________________________________________________\n",
      "Train on 8982 samples, validate on 2246 samples\n",
      "Epoch 1/10\n",
      "8982/8982 [==============================] - 4s 492us/step - loss: 0.0754 - acc: 0.9809 - val_loss: 0.0541 - val_acc: 0.9863\n",
      "Epoch 2/10\n",
      "8982/8982 [==============================] - 4s 483us/step - loss: 0.0492 - acc: 0.9875 - val_loss: 0.0485 - val_acc: 0.9876\n",
      "Epoch 3/10\n",
      "8982/8982 [==============================] - 5s 516us/step - loss: 0.0424 - acc: 0.9884 - val_loss: 0.0452 - val_acc: 0.9880\n",
      "Epoch 4/10\n",
      "8982/8982 [==============================] - 4s 500us/step - loss: 0.0370 - acc: 0.9894 - val_loss: 0.0437 - val_acc: 0.9883\n",
      "Epoch 5/10\n",
      "8982/8982 [==============================] - 4s 474us/step - loss: 0.0326 - acc: 0.9906 - val_loss: 0.0435 - val_acc: 0.9886\n",
      "Epoch 6/10\n",
      "8982/8982 [==============================] - 4s 467us/step - loss: 0.0286 - acc: 0.9915 - val_loss: 0.0447 - val_acc: 0.9885\n",
      "Epoch 7/10\n",
      "8982/8982 [==============================] - 4s 461us/step - loss: 0.0247 - acc: 0.9923 - val_loss: 0.0465 - val_acc: 0.9884\n",
      "Epoch 8/10\n",
      "8982/8982 [==============================] - 4s 472us/step - loss: 0.0213 - acc: 0.9933 - val_loss: 0.0483 - val_acc: 0.9881\n",
      "Epoch 9/10\n",
      "8982/8982 [==============================] - 4s 478us/step - loss: 0.0179 - acc: 0.9943 - val_loss: 0.0507 - val_acc: 0.9880\n",
      "Epoch 10/10\n",
      "8982/8982 [==============================] - 4s 483us/step - loss: 0.0152 - acc: 0.9951 - val_loss: 0.0546 - val_acc: 0.9878\n"
     ]
    }
   ],
   "source": [
    "#We'll start by building a simple model using embedding\n",
    "from keras.models import Sequential\n",
    "from keras.layers import Flatten, Dense\n",
    "\n",
    "model = Sequential()\n",
    "# We specify the maximum input length to our Embedding layer\n",
    "# so we can later flatten the embedded inputs\n",
    "model.add(Embedding(500, 8, input_length=maxlen))\n",
    "# After the Embedding layer, \n",
    "# our activations have shape `(samples, maxlen, 8)`.\n",
    "# convolution layers\n",
    "model.add(Flatten())\n",
    "\n",
    "model.add(Dense(512, activation = 'relu'))\n",
    "model.add(Dropout(0.25))\n",
    "\n",
    "model.add(Dense(46, activation='sigmoid'))\n",
    "\n",
    "\n",
    "model.compile(optimizer='rmsprop', loss='binary_crossentropy', metrics=['acc'])\n",
    "model.summary()\n",
    "\n",
    "history = model.fit(x_train, y_train,\n",
    "                    epochs=10,\n",
    "                    batch_size=32,\n",
    "                    validation_data=(x_test, y_test))"
   ]
  },
  {
   "cell_type": "code",
   "execution_count": 11,
   "metadata": {
    "scrolled": true
   },
   "outputs": [
    {
     "data": {
      "image/png": "[encoded data removed]",
      "text/plain": [
       "<matplotlib.figure.Figure at 0x10c23dbe0>"
      ]
     },
     "metadata": {},
     "output_type": "display_data"
    },
    {
     "data": {
      "image/png": "[encoded data removed]",
      "text/plain": [
       "<matplotlib.figure.Figure at 0x10aba9278>"
      ]
     },
     "metadata": {},
     "output_type": "display_data"
    },
    {
     "name": "stdout",
     "output_type": "stream",
     "text": [
      "2246/2246 [==============================] - 0s 92us/step\n",
      "Loss: 0.055\n",
      "Accuracy: 0.988\n"
     ]
    }
   ],
   "source": [
    "import matplotlib.pyplot as plt\n",
    "\n",
    "acc = history.history['acc']\n",
    "val_acc = history.history['val_acc']\n",
    "loss = history.history['loss']\n",
    "val_loss = history.history['val_loss']\n",
    "\n",
    "epochs = range(1, len(acc) + 1)\n",
    "\n",
    "plt.plot(epochs, acc, 'bo', label='Training acc')\n",
    "plt.plot(epochs, val_acc, 'b', label='Validation acc')\n",
    "plt.title('Training and validation accuracy')\n",
    "plt.legend()\n",
    "\n",
    "plt.figure()\n",
    "\n",
    "plt.plot(epochs, loss, 'bo', label='Training loss')\n",
    "plt.plot(epochs, val_loss, 'b', label='Validation loss')\n",
    "plt.title('Training and validation loss')\n",
    "plt.legend()\n",
    "\n",
    "plt.show()\n",
    "scores = model.evaluate(x_test, y_test)\n",
    "print('Loss: %.3f' % scores[0])\n",
    "print('Accuracy: %.3f' % scores[1])"
   ]
  },
  {
   "cell_type": "code",
   "execution_count": null,
   "metadata": {
    "collapsed": true
   },
   "outputs": [],
   "source": []
  }
 ],
 "metadata": {
  "kernelspec": {
   "display_name": "Python [default]",
   "language": "python",
   "name": "python3"
  },
  "language_info": {
   "codemirror_mode": {
    "name": "ipython",
    "version": 3
   },
   "file_extension": ".py",
   "mimetype": "text/x-python",
   "name": "python",
   "nbconvert_exporter": "python",
   "pygments_lexer": "ipython3",
   "version": "3.6.3"
  }
 },
 "nbformat": 4,
 "nbformat_minor": 2
}
